{
 "cells": [
  {
   "cell_type": "markdown",
   "metadata": {},
   "source": [
    "# Data Science Lifecycle\n",
    "©️ 2021, Mohamed Bani Hani and Ahmad Ibrahim. All Rights Reserved.\n",
    "\n",
    "------\n",
    "## Case Study: SPOKEN-LANGUAGE-IDENTIFICATION\n",
    "*Objective:*\n",
    "Automatically identify the spoken language from a speech audio signal with TensorFlow.</font>\n",
    "\n",
    "## Dataset Description\n",
    "The dataset used in the notebooks is based on Mozilla’s Common Voice. You will need to download the English and the Arabic datasets. Each data set contains an Audio file and five excel files. each excel contains information about the donors. (Age, Gender, accent, sentence, client_id)\n"
   ]
  },
  {
   "cell_type": "code",
   "execution_count": 1,
   "metadata": {},
   "outputs": [],
   "source": [
    "train = 'train'\n",
    "test = 'test'\n",
    "\n",
    "eng = 'english'\n",
    "ara = 'arabic'\n",
    "\n",
    "languages = [eng, ara]\n",
    "categories = [train, test]\n",
    "\n",
    "original_dataset_paths = {}\n",
    "                              \n",
    "original_dataset_paths[eng] = 'C:/Users/GTS/Desktop/EN &AR/cv-corpus-6.1-2020-12-11/en/' \n",
    "original_dataset_paths[ara] = 'C:/Users/GTS/Desktop/EN &AR/cv-corpus-6.1-2020-12-11/ar/'\n",
    "\n",
    "target_root_path = 'C:/Users/GTS/Desktop/EN &AR/cv-corpus-6.1-2020-12-11/data/'\n",
    "# specify the number of audio files taken for each language \n",
    "num_files_to_take_for_each_language = 20000\n",
    "train_rate = 0.8 "
   ]
  },
  {
   "cell_type": "code",
   "execution_count": 41,
   "metadata": {},
   "outputs": [],
   "source": [
    "#this script will check if the dataset exists in the directory \n",
    "import os\n",
    "\n",
    "for lang in languages:\n",
    "    if not os.path.isdir(original_dataset_paths[lang]):\n",
    "        raise\n",
    "    for category in categories:\n",
    "        if not os.path.isdir(target_root_path + category + '/' + lang):\n",
    "            raise\n"
   ]
  },
  {
   "cell_type": "code",
   "execution_count": 36,
   "metadata": {},
   "outputs": [],
   "source": [
    "import librosa as lr\n",
    "from glob import glob\n",
    "from random import shuffle\n",
    "from shutil import copy2\n",
    "import numpy as np\n",
    "import pandas as pd\n",
    "import warnings"
   ]
  },
  {
   "cell_type": "code",
   "execution_count": 2,
   "metadata": {},
   "outputs": [],
   "source": [
    "# this function will taken  the audio that exist in the validation excel\n",
    "# and checks the quality of the Audio and then save it on a new file \n",
    "\n",
    "def copy_audio_files_for_language(lang):\n",
    "    \n",
    "    print('')\n",
    "    print('Copying files for language ' + lang + '...')\n",
    "    print('')\n",
    "    \n",
    "    # Only take validated speech data\n",
    "    df = pd.read_csv(original_dataset_paths[lang] + 'validated.tsv', sep='\\t')\n",
    "    all_filenames = df['path'].tolist()\n",
    "    shuffle(all_filenames)\n",
    "    \n",
    "    counter = 0\n",
    "    \n",
    "    category = train    \n",
    "    \n",
    "    # picking clean audio\n",
    "    for filename in all_filenames:\n",
    "        file = original_dataset_paths[lang] + 'clips/' + filename\n",
    "        try:\n",
    "            audio_segment, sample_rate = lr.load(file)\n",
    "            if np.count_nonzero(audio_segment) == 0:\n",
    "                raise Exception('Audio is silent!')\n",
    "            if audio_segment.ndim != 1:\n",
    "                raise Exception('Audio signal has wrong number of dimensions: ' + str(audio_segment.ndim))\n",
    "            duration_sec = lr.core.get_duration(audio_segment, sr=sample_rate)\n",
    "        except Exception as e:\n",
    "            print('WARNING! Error while loading file \\\"' + file + '\\\": ' + str(e) + ' - Skipping...')\n",
    "            continue\n",
    "        \n",
    "        #  copy audio files with a certain minimum duration\n",
    "        if 1.5 < duration_sec < 10.0:\n",
    "            copy2(file, target_root_path + category + '/' + lang)\n",
    "            counter += 1\n",
    "        \n",
    "        # Stop after collecting enough files \n",
    "        if counter == int(num_files_to_take_for_each_language * train_rate):\n",
    "            category = test\n",
    "        if counter == num_files_to_take_for_each_language:\n",
    "            break"
   ]
  },
  {
   "cell_type": "code",
   "execution_count": 38,
   "metadata": {},
   "outputs": [
    {
     "name": "stdout",
     "output_type": "stream",
     "text": [
      "\n",
      "Copying files for language arabic...\n",
      "\n"
     ]
    }
   ],
   "source": [
    "warnings.simplefilter('ignore', UserWarning)\n",
    "\n",
    "copy_audio_files_for_language(ara)\n",
    "\n",
    "warnings.simplefilter('default', UserWarning)"
   ]
  },
  {
   "cell_type": "code",
   "execution_count": 77,
   "metadata": {},
   "outputs": [
    {
     "name": "stdout",
     "output_type": "stream",
     "text": [
      "\n",
      "Copying files for language english...\n",
      "\n",
      "WARNING! Error while loading file \"C:/Users/GTS/Desktop/EN &AR/cv-corpus-6.1-2020-12-11/en/clips/d8b05ec9eae31d7d4a3b9cb3fa3c0bb75971d428c895d503e526f10f746c8b102c662001416da51d99e4af18f51dd9cf698721253c21b42bf59a6546103adabb.mp3\":  - Skipping...\n"
     ]
    }
   ],
   "source": [
    "# start at 5 \n",
    "warnings.simplefilter('ignore', UserWarning)\n",
    "\n",
    "copy_audio_files_for_language(eng)\n",
    "\n",
    "warnings.simplefilter('default', UserWarning)"
   ]
  },
  {
   "cell_type": "code",
   "execution_count": 78,
   "metadata": {},
   "outputs": [
    {
     "name": "stdout",
     "output_type": "stream",
     "text": [
      "Okay!\n"
     ]
    }
   ],
   "source": [
    "# this loop will make sure that the above function took 20K of data 16K for traning and 4K for testing \n",
    "for category in categories:\n",
    "    \n",
    "    if category == train:\n",
    "        num_files = int(num_files_to_take_for_each_language * train_rate)\n",
    "    else:\n",
    "        num_files = int(num_files_to_take_for_each_language * (1.0 - train_rate))\n",
    "        \n",
    "    for lang in languages:\n",
    "        folder = target_root_path + category + '/' + lang + '/'\n",
    "        all_files = glob(folder + '*.mp3')\n",
    "        \n",
    "        if len(all_files) < (num_files - 1):\n",
    "            raise Exception('Folder \\\"' + folder + '\\\" only contains ' + str(len(all_files)) + ' files instead of ' + str(num_files) + '!')\n",
    "            \n",
    "print('Okay!')"
   ]
  },
  {
   "cell_type": "code",
   "execution_count": 79,
   "metadata": {},
   "outputs": [
    {
     "name": "stdout",
     "output_type": "stream",
     "text": [
      "Total duration of english train is 18.2 h\n",
      "Total duration of arabic train is 17.8 h\n",
      "Total duration of english test is 4.6 h\n",
      "Total duration of arabic test is 4.5 h\n"
     ]
    }
   ],
   "source": [
    "warnings.simplefilter('ignore', UserWarning)\n",
    "\n",
    "for category in categories:\n",
    "    for lang in languages:\n",
    "        duration_sec = 0.0\n",
    "        \n",
    "        folder = target_root_path + category + '/' + lang + '/'\n",
    "        all_files = glob(folder + '*.mp3')\n",
    "        \n",
    "        for file in all_files:\n",
    "            duration_sec += lr.core.get_duration(filename=file)\n",
    "            \n",
    "        duration_h = duration_sec / 60.0 / 60.0\n",
    "        print('Total duration of ' + lang + ' ' + category + ' is ' + str(round(duration_h, 1)) + ' h')\n",
    "        \n",
    "warnings.simplefilter('default', UserWarning)"
   ]
  },
  {
   "cell_type": "code",
   "execution_count": null,
   "metadata": {},
   "outputs": [],
   "source": []
  }
 ],
 "metadata": {
  "kernelspec": {
   "display_name": "Python 3",
   "language": "python",
   "name": "python3"
  },
  "language_info": {
   "codemirror_mode": {
    "name": "ipython",
    "version": 3
   },
   "file_extension": ".py",
   "mimetype": "text/x-python",
   "name": "python",
   "nbconvert_exporter": "python",
   "pygments_lexer": "ipython3",
   "version": "3.8.8"
  }
 },
 "nbformat": 4,
 "nbformat_minor": 2
}
